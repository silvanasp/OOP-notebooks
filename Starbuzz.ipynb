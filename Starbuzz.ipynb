{
 "cells": [
  {
   "cell_type": "code",
   "execution_count": 2,
   "metadata": {},
   "outputs": [],
   "source": []
  },
  {
   "cell_type": "markdown",
   "metadata": {},
   "source": [
    "### Starbuzz coffee"
   ]
  },
  {
   "cell_type": "markdown",
   "metadata": {},
   "source": [
    "Beverage is an abstract class with the two methods getDescription() and cost().\n",
    "\n",
    "getDescription is already implemented for us, but we need to implement cost() in the subclasses."
   ]
  },
  {
   "cell_type": "code",
   "execution_count": 1,
   "metadata": {},
   "outputs": [],
   "source": [
    "from abc import ABC\n",
    "class Beverage(ABC):\n",
    "\n",
    "    def __init__(self):\n",
    "        self.description = \"Unknown Beverage\"\n",
    "\n",
    "    def getDescription(self):\n",
    "        return self.description\n",
    "    \n",
    "    def cost(self):\n",
    "        pass"
   ]
  },
  {
   "cell_type": "markdown",
   "metadata": {},
   "source": [
    "First, we need to be interchangeable with a Beverage, so we extend the Beverage class."
   ]
  },
  {
   "cell_type": "code",
   "execution_count": 2,
   "metadata": {},
   "outputs": [],
   "source": [
    "class CondimentDecorator(Beverage):\n",
    "\n",
    "    def __init__(self):\n",
    "        # Here's the Beverage that each Decorator will be wrapping. Notice we are using the\n",
    "        # Beverage supertype to refer to the Beverage so the Decorator can wrap any beverage.\n",
    "        self.beverage = None\n",
    "\n",
    "    # We’re also going to require that the condiment decorators all reimplement the\n",
    "     #getDescription() method. Again, we’ll see why ...\n",
    "    def getDescription(self):\n",
    "        pass"
   ]
  },
  {
   "cell_type": "markdown",
   "metadata": {},
   "source": [
    "First we extend the Beverage class, since this is a beverage."
   ]
  },
  {
   "cell_type": "code",
   "execution_count": 3,
   "metadata": {},
   "outputs": [],
   "source": [
    "class Espresso(Beverage):\n",
    "    # To take care of the description, we set this in the constructor for the class.\n",
    "    # Remember, the description instance variable is inherited from Beverage.\n",
    "    def __init__(self):\n",
    "        self.description = \"Espresso\"\n",
    "\n",
    "    # Finally, we need to compute the cost of an Espresso. We don’t need to worry about adding  \n",
    "    # in condiments in this class, we just need to return the price of an Espresso: $1.99.\n",
    "    def cost(self):\n",
    "        return 1.99"
   ]
  },
  {
   "cell_type": "code",
   "execution_count": 4,
   "metadata": {},
   "outputs": [],
   "source": [
    "# Okay, here’s another Beverage. All we do is set the appropriate description, \n",
    "# “House Blend Coffee,” and then return the correct cost: 89¢.\n",
    "class HouseBlend(Beverage):\n",
    "    def __init__(self):\n",
    "        self.description = \"House Blend Coffee\"\n",
    "    def cost(self):\n",
    "        return .89\n",
    "\n",
    "class DarkRoast(Beverage):\n",
    "    def __init__(self):\n",
    "        self.description = \"Most Excellent Dark Roast\"\n",
    "    def cost(self):\n",
    "        return .99"
   ]
  },
  {
   "cell_type": "markdown",
   "metadata": {},
   "source": [
    "Mocha is a decorator, so we extend CondimentDecorator. \n",
    "\n",
    "Remember, CondimentDecorator extends Beverage."
   ]
  },
  {
   "cell_type": "code",
   "execution_count": 5,
   "metadata": {},
   "outputs": [],
   "source": [
    "class Mocha(CondimentDecorator):\n",
    "    # We’re going to instantiate Mocha with a reference to a Beverage.\n",
    "    # Remember, this class inherits the Beverage instance variable to hold the beverage \n",
    "    # we are wrapping.\n",
    "    # We set this instance variable to the object we are wrapping. Here, we’re passing \n",
    "    # the beverage we’re wrapping to the decorator’s constructor.\n",
    "    def __init__(self, beverage):\n",
    "        self.beverage = beverage\n",
    "\n",
    "    # We want our description to include not only the beverage-say “Dark Roast”- but also \n",
    "    # each item decorating the beverage (for instance, “Dark Roast, Mocha”). So we first \n",
    "    # delegate to the object we are decorating to get its description, then append \n",
    "    # “, Mocha” to that description.\n",
    "    def getDescription(self):\n",
    "        return self.beverage.getDescription() + \", Mocha\"\n",
    "    \n",
    "    # Now we need to compute the cost of our beverage with Mocha. First, we delegate the call \n",
    "    # to the object we’re decorating so that it can compute the cost; then, we add the cost \n",
    "    # of Mocha to the result.\n",
    "    def cost(self):\n",
    "        return self.beverage.cost() + .20\n",
    "\n",
    "class Whip(CondimentDecorator):\n",
    "    def __init__(self, beverage):\n",
    "        self.beverage = beverage\n",
    "\n",
    "    def getDescription(self):\n",
    "        return self.beverage.getDescription() + \", Whip\"\n",
    "    \n",
    "    def cost(self):\n",
    "        return self.beverage.cost() + .10\n",
    "    \n",
    "class Soy(CondimentDecorator):\n",
    "    def __init__(self, beverage):\n",
    "        self.beverage = beverage\n",
    "    def getDescription(self):\n",
    "        return self.beverage.getDescription() + \", Soy\"\n",
    "    def cost(self):\n",
    "        return self.beverage.cost() + .20"
   ]
  },
  {
   "cell_type": "markdown",
   "metadata": {},
   "source": [
    "Order up an espresso, no condiments, and print its description and cost."
   ]
  },
  {
   "cell_type": "code",
   "execution_count": null,
   "metadata": {},
   "outputs": [],
   "source": [
    "beverage = Espresso()\n",
    "print(beverage.getDescription() + \" $\" + str(beverage.cost()))\n"
   ]
  },
  {
   "cell_type": "code",
   "execution_count": null,
   "metadata": {},
   "outputs": [],
   "source": [
    "# Make a DarkRoast object.\n",
    "beverage2 = DarkRoast()\n",
    "# Wrap it with a Mocha.\n",
    "beverage2 = Mocha(beverage2)\n",
    "# Wrap it with a second Mocha.\n",
    "beverage2 = Mocha(beverage2)\n",
    "# Wrap it in a Whip.\n",
    "beverage2 = Whip(beverage2)\n",
    "print(beverage2.getDescription() + \" $\" + str(beverage2.cost()))"
   ]
  },
  {
   "cell_type": "markdown",
   "metadata": {},
   "source": [
    "Finally, give us a HouseBlend with Soy, Mocha, and Whip."
   ]
  },
  {
   "cell_type": "code",
   "execution_count": null,
   "metadata": {},
   "outputs": [],
   "source": [
    "beverage3 = HouseBlend()\n",
    "beverage3 = Soy(beverage3)\n",
    "beverage3 = Mocha(beverage3)\n",
    "beverage3 = Whip(beverage3)\n",
    "print(beverage3.getDescription() + \" $\" + str(beverage3.cost()))"
   ]
  }
 ],
 "metadata": {
  "kernelspec": {
   "display_name": "Python 3",
   "language": "python",
   "name": "python3"
  },
  "language_info": {
   "codemirror_mode": {
    "name": "ipython",
    "version": 3
   },
   "file_extension": ".py",
   "mimetype": "text/x-python",
   "name": "python",
   "nbconvert_exporter": "python",
   "pygments_lexer": "ipython3",
   "version": "3.12.3"
  }
 },
 "nbformat": 4,
 "nbformat_minor": 2
}
