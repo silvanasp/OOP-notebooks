{
 "cells": [
  {
   "cell_type": "markdown",
   "id": "2ff5bad7",
   "metadata": {},
   "source": [
    "### NumPy arrays"
   ]
  },
  {
   "cell_type": "code",
   "execution_count": 2,
   "id": "a7625d74",
   "metadata": {},
   "outputs": [],
   "source": [
    "import numpy as np\n",
    "\n",
    "python_list = []\n",
    "array = "
   ]
  },
  {
   "cell_type": "code",
   "execution_count": null,
   "id": "1ddd25b7",
   "metadata": {},
   "outputs": [],
   "source": [
    "array"
   ]
  },
  {
   "cell_type": "code",
   "execution_count": null,
   "id": "0dc4e9a8",
   "metadata": {
    "scrolled": false
   },
   "outputs": [],
   "source": [
    "type(array)"
   ]
  },
  {
   "cell_type": "markdown",
   "id": "da360ad5",
   "metadata": {},
   "source": [
    "## python list of lists"
   ]
  },
  {
   "cell_type": "code",
   "execution_count": null,
   "id": "d08aa8c9",
   "metadata": {},
   "outputs": [],
   "source": [
    "python_list_of_lists = \n",
    "np.array(python_list_of_lists)"
   ]
  },
  {
   "cell_type": "code",
   "execution_count": null,
   "id": "6673a594",
   "metadata": {},
   "outputs": [],
   "source": [
    "np.array(python_list_of_lists)"
   ]
  },
  {
   "cell_type": "markdown",
   "id": "756ceceb",
   "metadata": {},
   "source": [
    "## Creating arrays from scratch\n",
    "\n",
    "* np.zeros()\n",
    "* np.ones()\n",
    "* np.random.random()\n",
    "* np.arange() -> start value included in the array, stop not"
   ]
  },
  {
   "cell_type": "code",
   "execution_count": null,
   "id": "6c308b7d",
   "metadata": {},
   "outputs": [],
   "source": []
  },
  {
   "cell_type": "code",
   "execution_count": null,
   "id": "6cac0803",
   "metadata": {},
   "outputs": [],
   "source": []
  },
  {
   "cell_type": "code",
   "execution_count": null,
   "id": "3871b199",
   "metadata": {},
   "outputs": [],
   "source": []
  },
  {
   "cell_type": "markdown",
   "id": "81f78b88",
   "metadata": {},
   "source": [
    "## Visualization with matplotlib"
   ]
  },
  {
   "cell_type": "code",
   "execution_count": 7,
   "id": "4f3f7cee",
   "metadata": {},
   "outputs": [],
   "source": [
    "from matplotlib import pyplot as plt"
   ]
  },
  {
   "cell_type": "code",
   "execution_count": null,
   "id": "cc53127b",
   "metadata": {},
   "outputs": [],
   "source": [
    "plt.scatter(np.arange(,), np.arange(,))\n",
    "plt.show()"
   ]
  },
  {
   "cell_type": "code",
   "execution_count": null,
   "id": "c3edea05",
   "metadata": {},
   "outputs": [],
   "source": []
  },
  {
   "cell_type": "markdown",
   "id": "c5652e48",
   "metadata": {},
   "source": [
    "## 3D and 4D arrays"
   ]
  },
  {
   "cell_type": "code",
   "execution_count": null,
   "id": "fe189b59",
   "metadata": {},
   "outputs": [],
   "source": [
    "array1_2D = np.array([[],[]])\n",
    "array2_2D = np.array([[],[]])\n",
    "array3_2D = np.array([[],[]])\n",
    "\n",
    "array_3D = np.array([])\n"
   ]
  },
  {
   "cell_type": "code",
   "execution_count": 29,
   "id": "58d02ec7",
   "metadata": {},
   "outputs": [],
   "source": [
    "array1_2D = np.array([[],[]])\n",
    "array2_2D = np.array([[],[]])\n",
    "array3_2D = np.array([[],[]])\n",
    "array_3D = np.array([array1_2D, array2_2D, array3_2D])"
   ]
  },
  {
   "cell_type": "code",
   "execution_count": 32,
   "id": "bb68443e",
   "metadata": {},
   "outputs": [],
   "source": [
    "array_3D = "
   ]
  },
  {
   "cell_type": "code",
   "execution_count": null,
   "id": "3bf6ebf9",
   "metadata": {},
   "outputs": [],
   "source": [
    "array_4D = "
   ]
  },
  {
   "cell_type": "code",
   "execution_count": null,
   "id": "2c6523ae",
   "metadata": {},
   "outputs": [],
   "source": []
  },
  {
   "cell_type": "markdown",
   "id": "72d66ae2",
   "metadata": {},
   "source": [
    "### Array atribute:\n",
    "\n",
    "* .shape\n",
    "\n",
    "### Array methods:\n",
    "\n",
    "* .flatten()\n",
    "* .reshape()"
   ]
  },
  {
   "cell_type": "code",
   "execution_count": null,
   "id": "4141fb40",
   "metadata": {},
   "outputs": [],
   "source": []
  },
  {
   "cell_type": "code",
   "execution_count": 49,
   "id": "c62d7970",
   "metadata": {},
   "outputs": [],
   "source": [
    "sudoku_list = [[0, 0, 4, 3, 0, 0, 2, 0, 9],\n",
    " [0, 0, 5, 0, 0, 9, 0, 0, 1],\n",
    " [0, 7, 0, 0, 6, 0, 0, 4, 3],\n",
    " [0, 0, 6, 0, 0, 2, 0, 8, 7],\n",
    " [1, 9, 0, 0, 0, 7, 4, 0, 0],\n",
    " [0, 5, 0, 0, 8, 3, 0, 0, 0],\n",
    " [6, 0, 0, 0, 0, 0, 1, 0, 5],\n",
    " [0, 0, 3, 5, 0, 8, 6, 9, 0],\n",
    " [0, 4, 2, 9, 1, 0, 3, 0, 0]]\n",
    "\n",
    "sudoku_array = np.array(sudoku_list)"
   ]
  },
  {
   "cell_type": "code",
   "execution_count": null,
   "id": "78af9c90",
   "metadata": {},
   "outputs": [],
   "source": [
    "np.sort(sudoku_array, axis=0)"
   ]
  },
  {
   "cell_type": "code",
   "execution_count": null,
   "id": "22f8aafa",
   "metadata": {},
   "outputs": [],
   "source": [
    "np.where(sudoku_array == 0, \"\", sudoku_array)"
   ]
  },
  {
   "cell_type": "code",
   "execution_count": 53,
   "id": "12a21471",
   "metadata": {},
   "outputs": [
    {
     "data": {
      "text/plain": [
       "array([[0, 0, 4, 1, 0, 0, 2, 0, 1],\n",
       "       [0, 0, 1, 0, 0, 1, 0, 0, 1],\n",
       "       [0, 1, 0, 0, 6, 0, 0, 4, 1],\n",
       "       [0, 0, 6, 0, 0, 2, 0, 8, 1],\n",
       "       [1, 1, 0, 0, 0, 1, 4, 0, 0],\n",
       "       [0, 1, 0, 0, 8, 1, 0, 0, 0],\n",
       "       [6, 0, 0, 0, 0, 0, 1, 0, 1],\n",
       "       [0, 0, 1, 1, 0, 8, 6, 1, 0],\n",
       "       [0, 4, 2, 1, 1, 0, 1, 0, 0]])"
      ]
     },
     "execution_count": 53,
     "metadata": {},
     "output_type": "execute_result"
    }
   ],
   "source": [
    "np.where(sudoku_array % 2 != 0, 1, sudoku_array)"
   ]
  },
  {
   "cell_type": "markdown",
   "id": "adcb9dab",
   "metadata": {},
   "source": [
    "## Filtering with masks"
   ]
  },
  {
   "cell_type": "code",
   "execution_count": 47,
   "id": "a6713e61",
   "metadata": {},
   "outputs": [],
   "source": [
    "one_to_five = np.arange(1,6)"
   ]
  },
  {
   "cell_type": "code",
   "execution_count": null,
   "id": "06af8cc9",
   "metadata": {},
   "outputs": [],
   "source": [
    "mask = one_to_five % 2 == 0"
   ]
  },
  {
   "cell_type": "code",
   "execution_count": null,
   "id": "4e9282f5",
   "metadata": {},
   "outputs": [],
   "source": [
    "one_to_five[mask]"
   ]
  },
  {
   "cell_type": "code",
   "execution_count": null,
   "id": "f7d51d1d",
   "metadata": {},
   "outputs": [],
   "source": []
  }
 ],
 "metadata": {
  "kernelspec": {
   "display_name": "Python 3 (ipykernel)",
   "language": "python",
   "name": "python3"
  },
  "language_info": {
   "codemirror_mode": {
    "name": "ipython",
    "version": 3
   },
   "file_extension": ".py",
   "mimetype": "text/x-python",
   "name": "python",
   "nbconvert_exporter": "python",
   "pygments_lexer": "ipython3",
   "version": "3.11.5"
  }
 },
 "nbformat": 4,
 "nbformat_minor": 5
}
