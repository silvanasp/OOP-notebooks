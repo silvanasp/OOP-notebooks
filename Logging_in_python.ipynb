{
 "cells": [
  {
   "cell_type": "markdown",
   "id": "deef00df",
   "metadata": {},
   "source": [
    "Logging levels\n",
    "==="
   ]
  },
  {
   "attachments": {
    "logging_levels.png": {
     "image/png": "[encoded data removed]"
    }
   },
   "cell_type": "markdown",
   "id": "82b521a6",
   "metadata": {},
   "source": [
    "![logging_levels.png](attachment:logging_levels.png)"
   ]
  },
  {
   "cell_type": "markdown",
   "id": "7499c2be",
   "metadata": {},
   "source": [
    "Five Levels of Logging are:\n",
    "\n",
    "* Debug (10): Useful for diagnosing issues in the code.\n",
    "\n",
    "* Info (20): It can act as an acknowledgment that there are no bugs in the code. One good use-case of Info level logging is the progress of training a machine learning model.\n",
    "\n",
    "* Warning (30): Indicative of a problem that could occur in the future. For example, a warning of a module that might be discontinued in the future or low-ram warning.\n",
    "\n",
    "* Error (40): A serious bug in the code, could be a syntax error, out of memory error, exceptions.\n",
    "\n",
    "* Critical (50): An error due to which the program might stop functioning or might exit abruptly."
   ]
  },
  {
   "cell_type": "code",
   "execution_count": 4,
   "id": "e6614f57",
   "metadata": {},
   "outputs": [],
   "source": [
    "import logging"
   ]
  },
  {
   "cell_type": "markdown",
   "id": "47f441d5",
   "metadata": {},
   "source": [
    "The basicConfig() method is optional, and you might want to skip it."
   ]
  },
  {
   "cell_type": "code",
   "execution_count": 5,
   "id": "2200b896",
   "metadata": {},
   "outputs": [],
   "source": [
    "logging.basicConfig()\n"
   ]
  },
  {
   "cell_type": "markdown",
   "id": "d3dc3b7b",
   "metadata": {},
   "source": [
    "Let's build the five levels of severity"
   ]
  },
  {
   "cell_type": "code",
   "execution_count": 6,
   "id": "348d6764",
   "metadata": {},
   "outputs": [],
   "source": [
    "logging.debug(\"A Debug Logging Message\")"
   ]
  },
  {
   "cell_type": "code",
   "execution_count": 7,
   "id": "718a034e",
   "metadata": {},
   "outputs": [],
   "source": [
    "logging.info(\"A Info Logging Message\")"
   ]
  },
  {
   "cell_type": "code",
   "execution_count": null,
   "id": "ee265ef0",
   "metadata": {},
   "outputs": [],
   "source": [
    "logging.warning(\"A Warning Logging Message\")"
   ]
  },
  {
   "cell_type": "code",
   "execution_count": null,
   "id": "71193c26",
   "metadata": {},
   "outputs": [],
   "source": [
    "logging.error(\"An Error Logging Message\")"
   ]
  },
  {
   "cell_type": "code",
   "execution_count": null,
   "id": "de2e5b68",
   "metadata": {},
   "outputs": [],
   "source": [
    "logging.critical(\"A Critical Logging Message\")"
   ]
  },
  {
   "cell_type": "markdown",
   "id": "4f426fe5",
   "metadata": {},
   "source": [
    "You can modify the severity levels using the basicConfig() method. Here you would change the severity level to 20, which means logging levels having severity greater than 10 will be logged."
   ]
  },
  {
   "cell_type": "code",
   "execution_count": 1,
   "id": "9f50e55d",
   "metadata": {},
   "outputs": [],
   "source": [
    "import logging\n",
    "\n",
    "logging.basicConfig(level=logging.INFO)"
   ]
  },
  {
   "cell_type": "code",
   "execution_count": null,
   "id": "c3b4dd6d",
   "metadata": {},
   "outputs": [],
   "source": [
    "logging.debug(\"A Debug Logging Message\")\n",
    "\n",
    "logging.info(\"A Info Logging Message\")"
   ]
  },
  {
   "cell_type": "code",
   "execution_count": null,
   "id": "1a5b6935",
   "metadata": {},
   "outputs": [],
   "source": [
    "logging.warning(\"A Warning Logging Message\")"
   ]
  },
  {
   "cell_type": "code",
   "execution_count": 4,
   "id": "d0c419b1",
   "metadata": {},
   "outputs": [],
   "source": [
    "logging.basicConfig(level = logging.INFO, filename = 'OOP.log')\n"
   ]
  },
  {
   "cell_type": "code",
   "execution_count": 5,
   "id": "4b9231bf",
   "metadata": {},
   "outputs": [],
   "source": [
    "logging.debug(\"A Debug Logging Message\")"
   ]
  },
  {
   "cell_type": "code",
   "execution_count": null,
   "id": "49296b12",
   "metadata": {},
   "outputs": [],
   "source": [
    "logging.info(\"A Info Logging Message\")"
   ]
  },
  {
   "cell_type": "code",
   "execution_count": null,
   "id": "348fa7ba",
   "metadata": {},
   "outputs": [],
   "source": [
    "logging.warning(\"A Warning Logging Message\")"
   ]
  },
  {
   "cell_type": "markdown",
   "id": "236b6733",
   "metadata": {},
   "source": [
    "You can make use of the filemode keyword to prevent the log file from being written with multiple copies of logs i.e., append mode. The filemode can be changed to write mode, which will overwrite the previous logs and only save the current ones. Since the filemode is set to w, this means that the log file will be opened in write mode each time basicConfig() is run, which will ultimately overwrite the file."
   ]
  },
  {
   "cell_type": "code",
   "execution_count": null,
   "id": "6ecfface",
   "metadata": {},
   "outputs": [],
   "source": [
    "logging.basicConfig(level = logging.INFO, filename = 'datacamp.log', filemode = 'w')\n"
   ]
  },
  {
   "cell_type": "markdown",
   "id": "d7bdbfcb",
   "metadata": {},
   "source": [
    "Date, time and line number \n",
    "==="
   ]
  },
  {
   "cell_type": "code",
   "execution_count": 1,
   "id": "849fda86",
   "metadata": {},
   "outputs": [],
   "source": [
    "import logging\n",
    "logging.basicConfig(format='Date-Time : %(asctime)s : Line No. : %(lineno)d - %(message)s', \\\n",
    "                    level = logging.DEBUG)"
   ]
  },
  {
   "cell_type": "code",
   "execution_count": null,
   "id": "c29b052d",
   "metadata": {},
   "outputs": [],
   "source": [
    "logging.debug(\"A Debug Logging Message\")\n",
    "logging.info(\"A Info Logging Message\")\n",
    "logging.warning(\"A Warning Logging Message\")\n",
    "logging.error(\"An Error Logging Message\")\n",
    "logging.critical(\"A Critical Logging Message\")"
   ]
  },
  {
   "cell_type": "markdown",
   "id": "f2f0aa3f",
   "metadata": {},
   "source": [
    "## Example"
   ]
  },
  {
   "cell_type": "code",
   "execution_count": null,
   "id": "72836257",
   "metadata": {},
   "outputs": [],
   "source": [
    "import logging\n",
    "\n",
    "logging.basicConfig(format='%(asctime)s :: %(levelname)s :: %(funcName)s :: %(lineno)d \\\n",
    ":: %(message)s', level = logging.INFO)\n",
    "\n",
    "def addition(x, y):\n",
    "    add = x + y\n",
    "    return add\n",
    "\n",
    "\n",
    "def subtract(x, y):\n",
    "    sub = x - y\n",
    "    return sub\n",
    "\n",
    "\n",
    "def multiply(x, y):\n",
    "    mul = x * y\n",
    "    return mul\n",
    "\n",
    "\n",
    "def divide(x, y):\n",
    "    div = x / y\n",
    "    return div\n",
    "\n",
    "def exponent(x, y):\n",
    "    exp = x ** y\n",
    "    return exp\n",
    "\n",
    "\n",
    "num1 = 20\n",
    "num2 = 2\n",
    "\n",
    "def main():\n",
    "    add_result = addition(num1, num2)\n",
    "    logging.info('Add: {} + {} = {}'.format(num1, num2, add_result))\n",
    "\n",
    "    sub_result = subtract(num1, num2)\n",
    "    logging.info('Sub: {} - {} = {}'.format(num1, num2, sub_result))\n",
    "\n",
    "    mul_result = multiply(num1, num2)\n",
    "    logging.info('Mul: {} * {} = {}'.format(num1, num2, mul_result))\n",
    "\n",
    "    div_result = divide(num1, num2)\n",
    "    logging.info('Div: {} / {} = {}'.format(num1, num2, div_result))\n",
    "\n",
    "    exp_result = exponent(num1, num2)\n",
    "    logging.info('Exp: {} ** {} = {}'.format(num1, num2, exp_result))\n",
    "\n",
    "\n",
    "main()"
   ]
  },
  {
   "cell_type": "code",
   "execution_count": null,
   "id": "0b73b521",
   "metadata": {},
   "outputs": [],
   "source": []
  }
 ],
 "metadata": {
  "kernelspec": {
   "display_name": "Python 3 (ipykernel)",
   "language": "python",
   "name": "python3"
  },
  "language_info": {
   "codemirror_mode": {
    "name": "ipython",
    "version": 3
   },
   "file_extension": ".py",
   "mimetype": "text/x-python",
   "name": "python",
   "nbconvert_exporter": "python",
   "pygments_lexer": "ipython3",
   "version": "3.11.5"
  }
 },
 "nbformat": 4,
 "nbformat_minor": 5
}
