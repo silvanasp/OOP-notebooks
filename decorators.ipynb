{
 "cells": [
  {
   "cell_type": "code",
   "execution_count": 3,
   "metadata": {},
   "outputs": [],
   "source": [
    "class Person:\n",
    "    def __init__(self, name) -> None:\n",
    "        self._name = name\n",
    "        print('Iam init')\n",
    "    def getName(self):\n",
    "        print('fetch...')\n",
    "        return self._name\n",
    "    def setName(self, value):\n",
    "        print('change...')\n",
    "        self._name = value\n",
    "    def delName(self):\n",
    "        print('remove...')\n",
    "        del self._name\n",
    "    name = property(getName, setName, delName, 'name property docs')\n",
    "    "
   ]
  },
  {
   "cell_type": "code",
   "execution_count": null,
   "metadata": {},
   "outputs": [],
   "source": [
    "ana = Person('Ana')\n",
    "print(ana.name)\n",
    "print(Person.name.__doc__)"
   ]
  },
  {
   "cell_type": "code",
   "execution_count": null,
   "metadata": {},
   "outputs": [],
   "source": [
    "class Person():\n",
    "    @property\n",
    "    def name(self):...\n",
    "\n",
    "class Person():\n",
    "    def name(self):\n",
    "        name = property(name)"
   ]
  },
  {
   "cell_type": "markdown",
   "metadata": {},
   "source": [
    "### Setter and deleter decorators"
   ]
  },
  {
   "cell_type": "code",
   "execution_count": 39,
   "metadata": {},
   "outputs": [],
   "source": [
    "class Person():\n",
    "    def __init__(self, name) -> None:\n",
    "        self._name = name\n",
    "    \n",
    "    @property\n",
    "    def name(self):                 #name = property(name)\n",
    "        \" name property docs\"\n",
    "        print('fetch...')\n",
    "        return self._name\n",
    "\n",
    "    @name.setter\n",
    "    def name(self, value):          #name = name.setter(name)\n",
    "        print('change...')\n",
    "        self._name = value  \n",
    "\n",
    "    @name.deleter\n",
    "    def name(self):                 #name = name.deleter(name)\n",
    "        print('remove...')\n",
    "        del self._name"
   ]
  },
  {
   "cell_type": "code",
   "execution_count": null,
   "metadata": {},
   "outputs": [],
   "source": [
    "ana = Person('Ana')\n",
    "print(ana.name)\n",
    "ana.name = 'Juana'\n",
    "print(ana.name)\n",
    "help(Person.name)"
   ]
  },
  {
   "cell_type": "code",
   "execution_count": 2,
   "metadata": {},
   "outputs": [],
   "source": [
    "class ThisWay():\n",
    "    def __init__(self, var):\n",
    "        self.a = var\n",
    "\n",
    "    @property\n",
    "    def a(self):\n",
    "        return self.__a\n",
    "    \n",
    "    @a.setter\n",
    "    def a(self, var):\n",
    "        if var > 0 and var % 2 == 0:\n",
    "            self.__a = var\n",
    "        else: \n",
    "            self.__a = 2"
   ]
  },
  {
   "cell_type": "code",
   "execution_count": null,
   "metadata": {},
   "outputs": [],
   "source": [
    "test = ThisWay(10)\n",
    "test.a"
   ]
  },
  {
   "cell_type": "code",
   "execution_count": null,
   "metadata": {},
   "outputs": [],
   "source": []
  }
 ],
 "metadata": {
  "kernelspec": {
   "display_name": "Python 3 (ipykernel)",
   "language": "python",
   "name": "python3"
  },
  "language_info": {
   "codemirror_mode": {
    "name": "ipython",
    "version": 3
   },
   "file_extension": ".py",
   "mimetype": "text/x-python",
   "name": "python",
   "nbconvert_exporter": "python",
   "pygments_lexer": "ipython3",
   "version": "3.12.2"
  }
 },
 "nbformat": 4,
 "nbformat_minor": 2
}
