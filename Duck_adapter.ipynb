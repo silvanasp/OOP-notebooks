{
 "cells": [
  {
   "cell_type": "markdown",
   "metadata": {},
   "source": [
    "### If it walks like a duck and quacks like a duck, then it  ~~must~~ might be a ~~duck~~ turkey wrapped with a duck adapter..."
   ]
  },
  {
   "cell_type": "markdown",
   "metadata": {},
   "source": [
    "Our ducks implement a Duck interface that allows Ducks to quack and fly."
   ]
  },
  {
   "cell_type": "code",
   "execution_count": 34,
   "metadata": {},
   "outputs": [],
   "source": [
    "from abc import ABC\n",
    "\n",
    "class Duck(ABC):\n",
    "    def quack(self):\n",
    "        pass\n",
    "    def fly(self):\n",
    "        pass"
   ]
  },
  {
   "cell_type": "markdown",
   "metadata": {},
   "source": [
    "Here’s a subclass of Duck, the MallardDuck:"
   ]
  },
  {
   "cell_type": "code",
   "execution_count": 35,
   "metadata": {},
   "outputs": [],
   "source": [
    "class MallardDuck(Duck):\n",
    "    def quack(self):\n",
    "        print(\"Quack\")\n",
    "    def fly(self):\n",
    "        print(\"I'm flying\")"
   ]
  },
  {
   "cell_type": "markdown",
   "metadata": {},
   "source": [
    "MallardDuck just prints out what it is doing.\n",
    "\n",
    "Now it’s time to meet the newest fowl on the block:"
   ]
  },
  {
   "cell_type": "code",
   "execution_count": 36,
   "metadata": {},
   "outputs": [],
   "source": [
    "class Turkey(ABC):\n",
    "    def gobble(self):\n",
    "        pass\n",
    "    def fly(self):\n",
    "        pass"
   ]
  },
  {
   "cell_type": "markdown",
   "metadata": {},
   "source": [
    "Turkeys don’t quack, they gobble. And they can fly, although only fly short distances.\n",
    "\n",
    "Here’s a concrete implementation of Turkey; like MallardDuck, it just prints out its actions:"
   ]
  },
  {
   "cell_type": "code",
   "execution_count": 37,
   "metadata": {},
   "outputs": [],
   "source": [
    "class WildTurkey(Turkey):\n",
    "    def gobble(self):\n",
    "        print(\"Gobble gobble\")\n",
    "    def fly(self):\n",
    "        print(\"I'm flying a short distance\")"
   ]
  },
  {
   "cell_type": "markdown",
   "metadata": {},
   "source": [
    "Now, let’s say you’re short on Duck objects and you’d like to use some Turkey objects in their\n",
    "place. Obviously we can’t use the turkeys outright because they have a different interface.\n",
    "So, let’s write an Adapter:"
   ]
  },
  {
   "cell_type": "code",
   "execution_count": 38,
   "metadata": {},
   "outputs": [],
   "source": [
    "# First, you need to implement the interface of the type you’re adapting to. \n",
    "# This is the interface your client expects to see.\n",
    "class TurkeyAdapter(Duck):\n",
    "\n",
    "    # Next, we need to get a reference to the object that we are adapting; \n",
    "    # here we do that through the constructor.\n",
    "    def __init__(self, turkey):\n",
    "        self.turkey = turkey\n",
    "\n",
    "    # Now we need to implement all the methods in the interface; \n",
    "    # the quack() translation between classes is easy: just call the gobble() method.\n",
    "    def quack(self):        \n",
    "        self.turkey.gobble()\n",
    "\n",
    "    # Even though both interfaces have a fly() method, Turkeys fly in short spurts—\n",
    "    # they can’t do long-distance flying like ducks. To map between a Duck’s fly()\n",
    "    # method and a Turkey’s, we need to call the Turkey’s fly() method five times to\n",
    "    # make up for it.\n",
    "    def fly(self):\n",
    "        for i in range(0, 5):\n",
    "            self.turkey.fly()"
   ]
  },
  {
   "cell_type": "markdown",
   "metadata": {},
   "source": [
    "### Test drive the adapter"
   ]
  },
  {
   "cell_type": "code",
   "execution_count": 39,
   "metadata": {},
   "outputs": [],
   "source": [
    "def test_duck(duck):\n",
    "    duck.quack()\n",
    "    duck.fly()"
   ]
  },
  {
   "cell_type": "code",
   "execution_count": null,
   "metadata": {},
   "outputs": [],
   "source": [
    "# Let’s create a Duck\n",
    "duck = MallardDuck()\n",
    "\n",
    "# ...and a Turkey\n",
    "turkey = WildTurkey()\n",
    "\n",
    "# And then wrap the turkey in a TurkeyAdapter, which makes it look like a Duck\n",
    "turkey_adapter = TurkeyAdapter(turkey)\n",
    "\n",
    "# Then, let’s test the Turkey: make it gobble, make it fly. \n",
    "print(\"The Turkey says...\")\n",
    "turkey.gobble()\n",
    "turkey.fly()"
   ]
  },
  {
   "cell_type": "code",
   "execution_count": null,
   "metadata": {},
   "outputs": [],
   "source": [
    "# Now let’s test the duck by calling the test_duck() method, which expects a Duck object\n",
    "print(\"\\nThe Duck says...\")\n",
    "test_duck(duck)"
   ]
  },
  {
   "cell_type": "markdown",
   "metadata": {},
   "source": [
    "Now the big test: we try to pass off the turkey as a duck..."
   ]
  },
  {
   "cell_type": "code",
   "execution_count": null,
   "metadata": {},
   "outputs": [],
   "source": [
    "print(\"\\nThe TurkeyAdapter says...\")\n",
    "test_duck(turkey_adapter)"
   ]
  },
  {
   "cell_type": "markdown",
   "metadata": {},
   "source": [
    "And the adapter gobbles when quack() is called and flies a few times when fly() is called. The testDuck() method never knows it has a turkey disguised as a duck!"
   ]
  },
  {
   "cell_type": "markdown",
   "metadata": {},
   "source": [
    "### Summary:\n",
    "\n",
    "1. The client makes a request to the adapter by calling a method on it using the target interface.\n",
    "1. The adapter translates the request into one or more calls on the adaptee using the adaptee\n",
    "interface.\n",
    "1. The client receives the results of the call and neverknow s there is an adapter doing the translation."
   ]
  },
  {
   "cell_type": "code",
   "execution_count": null,
   "metadata": {},
   "outputs": [],
   "source": []
  }
 ],
 "metadata": {
  "kernelspec": {
   "display_name": "Python 3",
   "language": "python",
   "name": "python3"
  },
  "language_info": {
   "codemirror_mode": {
    "name": "ipython",
    "version": 3
   },
   "file_extension": ".py",
   "mimetype": "text/x-python",
   "name": "python",
   "nbconvert_exporter": "python",
   "pygments_lexer": "ipython3",
   "version": "3.12.3"
  }
 },
 "nbformat": 4,
 "nbformat_minor": 2
}
