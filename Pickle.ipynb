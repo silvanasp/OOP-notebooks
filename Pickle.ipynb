{
 "cells": [
  {
   "cell_type": "markdown",
   "id": "05c6623c",
   "metadata": {},
   "source": [
    "### Let’s create a simple Python list:\n"
   ]
  },
  {
   "cell_type": "code",
   "execution_count": null,
   "id": "66430dc2",
   "metadata": {},
   "outputs": [],
   "source": [
    "import pickle \n",
    "\n",
    "student_names = ['Alice','Bob','Elena','Jane','Kyle']"
   ]
  },
  {
   "cell_type": "markdown",
   "id": "904daef5",
   "metadata": {},
   "source": [
    "Let’s open a text file, write the list to it using the dumps() function, and close the file:\n"
   ]
  },
  {
   "cell_type": "code",
   "execution_count": null,
   "id": "2b408beb",
   "metadata": {},
   "outputs": [],
   "source": [
    "with open('student_file.pkl', 'wb') as f:  # open a text file\n",
    "    pickle.dump(student_names, f) # serialize the list"
   ]
  },
  {
   "cell_type": "markdown",
   "id": "2c69c082",
   "metadata": {},
   "source": [
    "Finally, you can close the file with the following line of code:\n"
   ]
  },
  {
   "cell_type": "code",
   "execution_count": null,
   "id": "1f97f3fb",
   "metadata": {},
   "outputs": [],
   "source": [
    "f.close()"
   ]
  },
  {
   "cell_type": "markdown",
   "id": "f9ef79ae",
   "metadata": {},
   "source": [
    "Now, let’s deserialize the file and print the list:\n"
   ]
  },
  {
   "cell_type": "code",
   "execution_count": null,
   "id": "9e480613",
   "metadata": {},
   "outputs": [],
   "source": [
    "with open('student_file.pkl', 'rb') as f:\n",
    "\n",
    "    student_names_loaded = pickle.load(f) # deserialize using load()\n",
    "    \n",
    "print(student_names_loaded) # print student names\n",
    "type(student_names_loaded)\n"
   ]
  },
  {
   "cell_type": "markdown",
   "id": "be72d660",
   "metadata": {},
   "source": [
    "## Numpy arrays\n"
   ]
  },
  {
   "cell_type": "code",
   "execution_count": null,
   "id": "650a3635",
   "metadata": {},
   "outputs": [],
   "source": [
    "import numpy as np\n",
    "\n",
    "numpy_array = np.ones((10,10)) # 10x10 array\n"
   ]
  },
  {
   "cell_type": "markdown",
   "id": "4bd5baac",
   "metadata": {},
   "source": [
    "Let’s call the dump() function to serialize this array to a file:\n"
   ]
  },
  {
   "cell_type": "code",
   "execution_count": null,
   "id": "18fb586b",
   "metadata": {},
   "outputs": [],
   "source": [
    "with open('my_array.pkl','wb') as f:\n",
    "    pickle.dump(numpy_array, f)\n"
   ]
  },
  {
   "cell_type": "markdown",
   "id": "6baa32ac",
   "metadata": {},
   "source": [
    "Finally, let’s unpickle this array and check its shape and data type to ensure that it has retained its original state:\n"
   ]
  },
  {
   "cell_type": "code",
   "execution_count": null,
   "id": "f8400645",
   "metadata": {},
   "outputs": [],
   "source": [
    "with open('my_array.pkl','rb') as f:\n",
    "    unpickled_array = pickle.load(f)\n",
    "    \n",
    "print('Array shape: '+str(unpickled_array.shape))\n",
    "print('Data type: '+str(type(unpickled_array)))\n"
   ]
  },
  {
   "cell_type": "markdown",
   "id": "0730a18a",
   "metadata": {},
   "source": [
    "### Serializing Machine Learning Models with Pickle\n"
   ]
  },
  {
   "cell_type": "code",
   "execution_count": null,
   "id": "531e3a06",
   "metadata": {},
   "outputs": [],
   "source": [
    "from sklearn.linear_model import LinearRegression\n",
    "from sklearn.datasets import make_regression\n",
    "\n",
    "# generate regression dataset\n",
    "X, y = make_regression(n_samples=100, n_features=3, noise=0.1, random_state=1)\n",
    "\n",
    "# train regression model\n",
    "linear_model = LinearRegression()\n",
    "linear_model.fit(X, y)\n",
    "\n",
    "# summary of the model\n",
    "print('Model intercept :', linear_model.intercept_)\n",
    "print('Model coefficients : ', linear_model.coef_)\n",
    "print('Model score : ', linear_model.score(X, y))\n"
   ]
  },
  {
   "cell_type": "markdown",
   "id": "a3abafaa",
   "metadata": {},
   "source": [
    "We can then serialize this model using Pickle’s dump() function:\n"
   ]
  },
  {
   "cell_type": "code",
   "execution_count": null,
   "id": "0cbb1311",
   "metadata": {},
   "outputs": [],
   "source": [
    "with open(\"linear_regression.pkl\", \"wb\") as f:\n",
    "    pickle.dump(linear_model, f)\n"
   ]
  },
  {
   "cell_type": "markdown",
   "id": "ccd66600",
   "metadata": {},
   "source": [
    "Let’s deserialize it using the load() function:\n"
   ]
  },
  {
   "cell_type": "code",
   "execution_count": null,
   "id": "38c7a33c",
   "metadata": {},
   "outputs": [],
   "source": [
    "with open(\"linear_regression.pkl\", \"rb\") as f:\n",
    "    unpickled_linear_model = pickle.load(f)\n"
   ]
  },
  {
   "cell_type": "markdown",
   "id": "f491ec09",
   "metadata": {},
   "source": [
    "The serialized model is now loaded and saved into the “unpickled_linear_model” variable. Let’s check this model’s parameters to ensure that it is the same as the one we initially created:\n"
   ]
  },
  {
   "cell_type": "code",
   "execution_count": null,
   "id": "e814c3d7",
   "metadata": {},
   "outputs": [],
   "source": [
    "# summary of the model\n",
    "print('Model intercept :', unpickled_linear_model.intercept_)\n",
    "print('Model coefficients : ', unpickled_linear_model.coef_)\n",
    "print('Model score : ', unpickled_linear_model.score(X, y))"
   ]
  }
 ],
 "metadata": {
  "kernelspec": {
   "display_name": "Python 3 (ipykernel)",
   "language": "python",
   "name": "python3"
  },
  "language_info": {
   "codemirror_mode": {
    "name": "ipython",
    "version": 3
   },
   "file_extension": ".py",
   "mimetype": "text/x-python",
   "name": "python",
   "nbconvert_exporter": "python",
   "pygments_lexer": "ipython3",
   "version": "3.11.5"
  }
 },
 "nbformat": 4,
 "nbformat_minor": 5
}
