{
 "cells": [
  {
   "cell_type": "code",
   "execution_count": 39,
   "metadata": {},
   "outputs": [],
   "source": [
    "class Component: \n",
    "    def __init__(self, name): \n",
    "        self.name = name \n",
    "       \n",
    "    def move(self, new_path): \n",
    "        new_folder = get_path(new_path) \n",
    "        del self.parent.children[self.name] \n",
    "        new_folder.children[self.name] = self \n",
    "        self.parent = new_folder\n",
    "\n",
    "    def delete(self): \n",
    "        del self.parent.children[self.name]"
   ]
  },
  {
   "cell_type": "code",
   "execution_count": 73,
   "metadata": {},
   "outputs": [],
   "source": [
    "class Folder(Component): \n",
    "    def __init__(self, name): \n",
    "        Component.__init__(self,name) \n",
    "        self.children = {} \n",
    "            \n",
    "    def add_child(self, child): \n",
    "        child.parent = self \n",
    "        self.children[child.name] = child\n",
    "        \n",
    "    def copy(self, new_path):\n",
    "        pass\n",
    "\n",
    "class File(Component): \n",
    "    def __init__(self, name, contents): \n",
    "        Component.__init__(self,name)\n",
    "        self.contents = contents \n",
    "\n",
    "    def copy(self, new_path):\n",
    "        pass\n"
   ]
  },
  {
   "cell_type": "code",
   "execution_count": 74,
   "metadata": {},
   "outputs": [],
   "source": [
    "root = Folder('') \n",
    "def get_path(path):\n",
    "    names = path.split('/')[1:] \n",
    "    node = root \n",
    "    for name in names: \n",
    "        node = node.children[name] \n",
    "    return node"
   ]
  },
  {
   "cell_type": "code",
   "execution_count": null,
   "metadata": {},
   "outputs": [],
   "source": [
    "folder1 = Folder('folder1')\n",
    "folder2 = Folder('folder2')\n",
    "root.add_child(folder1)\n",
    "root.add_child(folder2)\n",
    "folder11 = Folder('folder11')\n",
    "folder1.add_child(folder11)\n",
    "file111 = File('file111', 'contents')\n",
    "folder11.add_child(file111)\n",
    "file21 = File('file21', 'other contents')\n",
    "folder2.add_child(file21)\n",
    "folder2.children"
   ]
  },
  {
   "cell_type": "code",
   "execution_count": 43,
   "metadata": {},
   "outputs": [],
   "source": [
    "folder2.move('/folder1/folder11')"
   ]
  },
  {
   "cell_type": "code",
   "execution_count": null,
   "metadata": {},
   "outputs": [],
   "source": [
    "folder11.children"
   ]
  },
  {
   "cell_type": "code",
   "execution_count": 99,
   "metadata": {},
   "outputs": [],
   "source": [
    "file21.copy('/folder1/folder11')"
   ]
  },
  {
   "cell_type": "code",
   "execution_count": null,
   "metadata": {},
   "outputs": [],
   "source": [
    "folder1.copy('/folder2')\n"
   ]
  }
 ],
 "metadata": {
  "kernelspec": {
   "display_name": "base",
   "language": "python",
   "name": "python3"
  },
  "language_info": {
   "codemirror_mode": {
    "name": "ipython",
    "version": 3
   },
   "file_extension": ".py",
   "mimetype": "text/x-python",
   "name": "python",
   "nbconvert_exporter": "python",
   "pygments_lexer": "ipython3",
   "version": "3.11.5"
  }
 },
 "nbformat": 4,
 "nbformat_minor": 2
}
